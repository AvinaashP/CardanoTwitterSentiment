{
 "cells": [
  {
   "cell_type": "code",
   "execution_count": 141,
   "id": "b4f4afd8",
   "metadata": {},
   "outputs": [],
   "source": [
    "import twint\n",
    "import numpy as np\n",
    "import pandas as pd\n",
    "import os\n",
    "import plotly.graph_objects as go\n",
    "from plotly.subplots import make_subplots"
   ]
  },
  {
   "cell_type": "code",
   "execution_count": 142,
   "id": "457b0e90",
   "metadata": {},
   "outputs": [
    {
     "name": "stderr",
     "output_type": "stream",
     "text": [
      "/Users/avinaashpadman/opt/anaconda3/envs/cardanotwittersentiment/lib/python3.9/site-packages/IPython/core/interactiveshell.py:3441: FutureWarning:\n",
      "\n",
      "The error_bad_lines argument has been deprecated and will be removed in a future version.\n",
      "\n",
      "\n",
      "\n"
     ]
    }
   ],
   "source": [
    "df = pd.read_csv(\"../data/raw/TweetsRaw.csv\", error_bad_lines=False,lineterminator='\\n')"
   ]
  },
  {
   "cell_type": "markdown",
   "id": "45f06af2",
   "metadata": {},
   "source": [
    "The twitter data was scrapped using a library called snscraper. The script I wrote for that is in the src file as scrapeTweets.py. The API allowed me to scrape 200000 tweets from 2021-08-31 to 2021-08-08 which I then saved in my raw data file as TweetsRaw. It scrapped tweets that contained the word \"cardano\" in it.  "
   ]
  },
  {
   "cell_type": "code",
   "execution_count": 143,
   "id": "9fb9b782",
   "metadata": {},
   "outputs": [
    {
     "data": {
      "text/html": [
       "<div>\n",
       "<style scoped>\n",
       "    .dataframe tbody tr th:only-of-type {\n",
       "        vertical-align: middle;\n",
       "    }\n",
       "\n",
       "    .dataframe tbody tr th {\n",
       "        vertical-align: top;\n",
       "    }\n",
       "\n",
       "    .dataframe thead th {\n",
       "        text-align: right;\n",
       "    }\n",
       "</style>\n",
       "<table border=\"1\" class=\"dataframe\">\n",
       "  <thead>\n",
       "    <tr style=\"text-align: right;\">\n",
       "      <th></th>\n",
       "      <th>Unnamed: 0</th>\n",
       "      <th>Datetime</th>\n",
       "      <th>Tweet ID</th>\n",
       "      <th>Text</th>\n",
       "      <th>User</th>\n",
       "    </tr>\n",
       "  </thead>\n",
       "  <tbody>\n",
       "    <tr>\n",
       "      <th>199996</th>\n",
       "      <td>199996</td>\n",
       "      <td>2021-08-08 22:29:41+00:00</td>\n",
       "      <td>1424498074865504257</td>\n",
       "      <td>@Fougias_ @elliotrades @cryptoknitties @AdaDolls @CardinosNFT @CardanoKidz @spacebudzNFT @CardanoBits @the_hoskinsons @CardanoMonsters @KingsCarda...</td>\n",
       "      <td>ConservationAR</td>\n",
       "    </tr>\n",
       "    <tr>\n",
       "      <th>199997</th>\n",
       "      <td>199997</td>\n",
       "      <td>2021-08-08 22:29:40+00:00</td>\n",
       "      <td>1424498068418826243</td>\n",
       "      <td>How Cardano can help in Ethiopia, El Salvador and other developing countries https://t.co/rjAgSRQfB0</td>\n",
       "      <td>CryptoBerts</td>\n",
       "    </tr>\n",
       "    <tr>\n",
       "      <th>199998</th>\n",
       "      <td>199998</td>\n",
       "      <td>2021-08-08 22:29:39+00:00</td>\n",
       "      <td>1424498066137264136</td>\n",
       "      <td>@eVIRALToken has been changing the game since inception and will continue to do so. Say goodbye to #rugpulls #cryptomarket, any project launched o...</td>\n",
       "      <td>kloflin86</td>\n",
       "    </tr>\n",
       "    <tr>\n",
       "      <th>199999</th>\n",
       "      <td>199999</td>\n",
       "      <td>2021-08-08 22:29:27+00:00</td>\n",
       "      <td>1424498014660481026</td>\n",
       "      <td>$ADA 24 Hours Stats #Cardano\\n\\n24h High: $1.49131\\n24h Average: $1.45527\\n24h Low: $1.40946</td>\n",
       "      <td>Altcoin_Track</td>\n",
       "    </tr>\n",
       "    <tr>\n",
       "      <th>200000</th>\n",
       "      <td>200000</td>\n",
       "      <td>2021-08-08 22:28:13+00:00</td>\n",
       "      <td>1424497705410342918</td>\n",
       "      <td>@project_takumi @cardano_bull @JonMunitz I’m talking about how they keep calling themselves progressives and now they refer it to the people who p...</td>\n",
       "      <td>ForYang4</td>\n",
       "    </tr>\n",
       "  </tbody>\n",
       "</table>\n",
       "</div>"
      ],
      "text/plain": [
       "        Unnamed: 0                   Datetime             Tweet ID  \\\n",
       "199996      199996  2021-08-08 22:29:41+00:00  1424498074865504257   \n",
       "199997      199997  2021-08-08 22:29:40+00:00  1424498068418826243   \n",
       "199998      199998  2021-08-08 22:29:39+00:00  1424498066137264136   \n",
       "199999      199999  2021-08-08 22:29:27+00:00  1424498014660481026   \n",
       "200000      200000  2021-08-08 22:28:13+00:00  1424497705410342918   \n",
       "\n",
       "                                                                                                                                                         Text  \\\n",
       "199996  @Fougias_ @elliotrades @cryptoknitties @AdaDolls @CardinosNFT @CardanoKidz @spacebudzNFT @CardanoBits @the_hoskinsons @CardanoMonsters @KingsCarda...   \n",
       "199997                                                   How Cardano can help in Ethiopia, El Salvador and other developing countries https://t.co/rjAgSRQfB0   \n",
       "199998  @eVIRALToken has been changing the game since inception and will continue to do so. Say goodbye to #rugpulls #cryptomarket, any project launched o...   \n",
       "199999                                                           $ADA 24 Hours Stats #Cardano\\n\\n24h High: $1.49131\\n24h Average: $1.45527\\n24h Low: $1.40946   \n",
       "200000  @project_takumi @cardano_bull @JonMunitz I’m talking about how they keep calling themselves progressives and now they refer it to the people who p...   \n",
       "\n",
       "                  User  \n",
       "199996  ConservationAR  \n",
       "199997     CryptoBerts  \n",
       "199998       kloflin86  \n",
       "199999   Altcoin_Track  \n",
       "200000        ForYang4  "
      ]
     },
     "execution_count": 143,
     "metadata": {},
     "output_type": "execute_result"
    }
   ],
   "source": [
    "df.tail()"
   ]
  },
  {
   "cell_type": "code",
   "execution_count": 144,
   "id": "e14f4fc0",
   "metadata": {},
   "outputs": [
    {
     "data": {
      "text/plain": [
       "(200001, 5)"
      ]
     },
     "execution_count": 144,
     "metadata": {},
     "output_type": "execute_result"
    }
   ],
   "source": [
    "df.shape"
   ]
  },
  {
   "cell_type": "code",
   "execution_count": 145,
   "id": "5f7c6e2b",
   "metadata": {},
   "outputs": [],
   "source": [
    "df = df.drop_duplicates(subset = [\"Text\"])"
   ]
  },
  {
   "cell_type": "code",
   "execution_count": 146,
   "id": "e5c7714f",
   "metadata": {},
   "outputs": [
    {
     "data": {
      "text/plain": [
       "(195620, 5)"
      ]
     },
     "execution_count": 146,
     "metadata": {},
     "output_type": "execute_result"
    }
   ],
   "source": [
    "df.shape"
   ]
  },
  {
   "cell_type": "markdown",
   "id": "19ba51f5",
   "metadata": {},
   "source": [
    "First thing that I decided to do was to make sure that any duplicate tweets are removed so that the data reflects the sentiment value of each unique tweet. This removes around 4500 duplicated tweets"
   ]
  },
  {
   "cell_type": "code",
   "execution_count": 147,
   "id": "3ac01413",
   "metadata": {},
   "outputs": [],
   "source": [
    "import re\n",
    "import nltk \n",
    "import string\n",
    "from wordcloud import WordCloud, STOPWORDS\n",
    "from nltk.sentiment.vader import SentimentIntensityAnalyzer\n",
    "from textblob import TextBlob"
   ]
  },
  {
   "cell_type": "markdown",
   "id": "15c226fe",
   "metadata": {},
   "source": [
    "First we have to process the tweets into words that can be more easily analyzed by the sentiment analyzer. I will use re to process the text. We want to remove any @username words and retweets. Using the re.sub function, we can substitute a certain pattern with a blank text, effectively removing the pattern from the text."
   ]
  },
  {
   "cell_type": "code",
   "execution_count": 148,
   "id": "93526ffa",
   "metadata": {},
   "outputs": [
    {
     "data": {
      "text/html": [
       "<div>\n",
       "<style scoped>\n",
       "    .dataframe tbody tr th:only-of-type {\n",
       "        vertical-align: middle;\n",
       "    }\n",
       "\n",
       "    .dataframe tbody tr th {\n",
       "        vertical-align: top;\n",
       "    }\n",
       "\n",
       "    .dataframe thead th {\n",
       "        text-align: right;\n",
       "    }\n",
       "</style>\n",
       "<table border=\"1\" class=\"dataframe\">\n",
       "  <thead>\n",
       "    <tr style=\"text-align: right;\">\n",
       "      <th></th>\n",
       "      <th>Unnamed: 0</th>\n",
       "      <th>Datetime</th>\n",
       "      <th>Tweet ID</th>\n",
       "      <th>Text</th>\n",
       "      <th>User</th>\n",
       "    </tr>\n",
       "  </thead>\n",
       "  <tbody>\n",
       "    <tr>\n",
       "      <th>177365</th>\n",
       "      <td>177365</td>\n",
       "      <td>2021-08-12 14:45:50+00:00</td>\n",
       "      <td>1425830892463816711</td>\n",
       "      <td>@cryptodoc99 has named this 'Warped Matrix'!! I am thinking of what sort of \"specials\" I could create... welcome any and all ideas #Cardano https:...</td>\n",
       "      <td>marshallchow</td>\n",
       "    </tr>\n",
       "    <tr>\n",
       "      <th>127006</th>\n",
       "      <td>127006</td>\n",
       "      <td>2021-08-18 21:37:35+00:00</td>\n",
       "      <td>1428108841904971778</td>\n",
       "      <td>#ARM1 is a single pool running in Canada, Ontario, property powered by solar panels for more than 3 years.\\n\\n#Cardano #ADA #solarpower @adapools_...</td>\n",
       "      <td>ArmADApool</td>\n",
       "    </tr>\n",
       "    <tr>\n",
       "      <th>85127</th>\n",
       "      <td>85127</td>\n",
       "      <td>2021-08-23 04:54:58+00:00</td>\n",
       "      <td>1429668466198421510</td>\n",
       "      <td>#cardano is fucking unstoppable.</td>\n",
       "      <td>dhruvy0</td>\n",
       "    </tr>\n",
       "    <tr>\n",
       "      <th>16314</th>\n",
       "      <td>16314</td>\n",
       "      <td>2021-08-30 07:25:36+00:00</td>\n",
       "      <td>1432243086009122821</td>\n",
       "      <td>When will $ADA.X reach $5 ? #ada #cardano #CardanoADA #CardanoCommunity #CardanoSummit2021 #Cardano360 #CardanoCity #finance #fintech #blockchain ...</td>\n",
       "      <td>Fairmarket_Ph</td>\n",
       "    </tr>\n",
       "    <tr>\n",
       "      <th>87383</th>\n",
       "      <td>87383</td>\n",
       "      <td>2021-08-23 01:18:02+00:00</td>\n",
       "      <td>1429613872986603526</td>\n",
       "      <td>It's happening now!!\\n🔥🔥$3 #Cardano (#ADA) coming sooner than you think!!\\n\\n✅ADA = $2.79 https://t.co/pcL4ZuL0xJ https://t.co/Vq5hoiQpo7</td>\n",
       "      <td>Dr_shwetaPHD</td>\n",
       "    </tr>\n",
       "    <tr>\n",
       "      <th>117327</th>\n",
       "      <td>117327</td>\n",
       "      <td>2021-08-19 23:36:59+00:00</td>\n",
       "      <td>1428501276120203268</td>\n",
       "      <td>@AdvocateAda @cardano_whale I don't recall saying pro traders were short, or betting on the downside. even if was a neutral to bearish analysis, i...</td>\n",
       "      <td>noshitcoins</td>\n",
       "    </tr>\n",
       "    <tr>\n",
       "      <th>179383</th>\n",
       "      <td>179383</td>\n",
       "      <td>2021-08-12 06:07:54+00:00</td>\n",
       "      <td>1425700553531744257</td>\n",
       "      <td>Gonna say it again from just a macro level observation, Hedera Hashgraph is massively undervalued $ underperforming at this point, but I truly bel...</td>\n",
       "      <td>chalres200</td>\n",
       "    </tr>\n",
       "    <tr>\n",
       "      <th>109100</th>\n",
       "      <td>109100</td>\n",
       "      <td>2021-08-20 14:02:51+00:00</td>\n",
       "      <td>1428719178035474437</td>\n",
       "      <td>¿Recuerdan en el 2016 cuando decían por LTC que era el nuevo \"BTC\"?.\\nAhora hablan de que Cardano será el nuevo ETH.\\nLa innovación son los camino...</td>\n",
       "      <td>turrom13</td>\n",
       "    </tr>\n",
       "    <tr>\n",
       "      <th>117772</th>\n",
       "      <td>117772</td>\n",
       "      <td>2021-08-19 22:45:32+00:00</td>\n",
       "      <td>1428488329042010114</td>\n",
       "      <td>I have decided to retire the pool after 7 months of hard work to concentrate on other dev work. Good luck to my fellow small SPO's. I wish you all...</td>\n",
       "      <td>gerstaking</td>\n",
       "    </tr>\n",
       "    <tr>\n",
       "      <th>135526</th>\n",
       "      <td>135526</td>\n",
       "      <td>2021-08-17 14:18:05+00:00</td>\n",
       "      <td>1427635850372861964</td>\n",
       "      <td>@ceterispar1bus @cmsholdings I wish someone hate FTT like cardano</td>\n",
       "      <td>Shershaaah</td>\n",
       "    </tr>\n",
       "  </tbody>\n",
       "</table>\n",
       "</div>"
      ],
      "text/plain": [
       "        Unnamed: 0                   Datetime             Tweet ID  \\\n",
       "177365      177365  2021-08-12 14:45:50+00:00  1425830892463816711   \n",
       "127006      127006  2021-08-18 21:37:35+00:00  1428108841904971778   \n",
       "85127        85127  2021-08-23 04:54:58+00:00  1429668466198421510   \n",
       "16314        16314  2021-08-30 07:25:36+00:00  1432243086009122821   \n",
       "87383        87383  2021-08-23 01:18:02+00:00  1429613872986603526   \n",
       "117327      117327  2021-08-19 23:36:59+00:00  1428501276120203268   \n",
       "179383      179383  2021-08-12 06:07:54+00:00  1425700553531744257   \n",
       "109100      109100  2021-08-20 14:02:51+00:00  1428719178035474437   \n",
       "117772      117772  2021-08-19 22:45:32+00:00  1428488329042010114   \n",
       "135526      135526  2021-08-17 14:18:05+00:00  1427635850372861964   \n",
       "\n",
       "                                                                                                                                                         Text  \\\n",
       "177365  @cryptodoc99 has named this 'Warped Matrix'!! I am thinking of what sort of \"specials\" I could create... welcome any and all ideas #Cardano https:...   \n",
       "127006  #ARM1 is a single pool running in Canada, Ontario, property powered by solar panels for more than 3 years.\\n\\n#Cardano #ADA #solarpower @adapools_...   \n",
       "85127                                                                                                                        #cardano is fucking unstoppable.   \n",
       "16314   When will $ADA.X reach $5 ? #ada #cardano #CardanoADA #CardanoCommunity #CardanoSummit2021 #Cardano360 #CardanoCity #finance #fintech #blockchain ...   \n",
       "87383               It's happening now!!\\n🔥🔥$3 #Cardano (#ADA) coming sooner than you think!!\\n\\n✅ADA = $2.79 https://t.co/pcL4ZuL0xJ https://t.co/Vq5hoiQpo7   \n",
       "117327  @AdvocateAda @cardano_whale I don't recall saying pro traders were short, or betting on the downside. even if was a neutral to bearish analysis, i...   \n",
       "179383  Gonna say it again from just a macro level observation, Hedera Hashgraph is massively undervalued $ underperforming at this point, but I truly bel...   \n",
       "109100  ¿Recuerdan en el 2016 cuando decían por LTC que era el nuevo \"BTC\"?.\\nAhora hablan de que Cardano será el nuevo ETH.\\nLa innovación son los camino...   \n",
       "117772  I have decided to retire the pool after 7 months of hard work to concentrate on other dev work. Good luck to my fellow small SPO's. I wish you all...   \n",
       "135526                                                                                      @ceterispar1bus @cmsholdings I wish someone hate FTT like cardano   \n",
       "\n",
       "                 User  \n",
       "177365   marshallchow  \n",
       "127006     ArmADApool  \n",
       "85127         dhruvy0  \n",
       "16314   Fairmarket_Ph  \n",
       "87383    Dr_shwetaPHD  \n",
       "117327    noshitcoins  \n",
       "179383     chalres200  \n",
       "109100       turrom13  \n",
       "117772     gerstaking  \n",
       "135526     Shershaaah  "
      ]
     },
     "execution_count": 148,
     "metadata": {},
     "output_type": "execute_result"
    }
   ],
   "source": [
    "df.sample(10)"
   ]
  },
  {
   "cell_type": "code",
   "execution_count": 149,
   "id": "0381d0a5",
   "metadata": {},
   "outputs": [],
   "source": [
    "remove_rt = lambda x: re.sub( 'RT @\\w+: ',\"\",x)\n",
    "rt = lambda x: re.sub(\"(@\\w+)|(#\\w+)|(https:\\/\\/.*)\",\"\",x)\n",
    "df[\"ModText\"] = df.Text.map(remove_rt)\n",
    "df[\"ModText\"] = df.Text.map(rt)\n",
    "df[\"ModText\"] = df[\"ModText\"].str.lower()"
   ]
  },
  {
   "cell_type": "markdown",
   "id": "c7c70c88",
   "metadata": {},
   "source": [
    "Using the regex library I can clean up the text by identifying certain patterns and replacing it with a blank space. For example I can remove the patterns \"RT @michael\" by using re.sub('RT @\\w+:' , \"\", x). \\w+ is a regex command that matches alphanumeric character (\\w) of one or more occurences (+). Similarly \"#\\w+' will match to any hashtag pattern that starts with # and is followed up by an alphanumeric sequence of length one or more.\n"
   ]
  },
  {
   "cell_type": "code",
   "execution_count": 150,
   "id": "774b4373",
   "metadata": {},
   "outputs": [
    {
     "data": {
      "text/html": [
       "<div>\n",
       "<style scoped>\n",
       "    .dataframe tbody tr th:only-of-type {\n",
       "        vertical-align: middle;\n",
       "    }\n",
       "\n",
       "    .dataframe tbody tr th {\n",
       "        vertical-align: top;\n",
       "    }\n",
       "\n",
       "    .dataframe thead th {\n",
       "        text-align: right;\n",
       "    }\n",
       "</style>\n",
       "<table border=\"1\" class=\"dataframe\">\n",
       "  <thead>\n",
       "    <tr style=\"text-align: right;\">\n",
       "      <th></th>\n",
       "      <th>Unnamed: 0</th>\n",
       "      <th>Datetime</th>\n",
       "      <th>Tweet ID</th>\n",
       "      <th>Text</th>\n",
       "      <th>User</th>\n",
       "      <th>ModText</th>\n",
       "    </tr>\n",
       "  </thead>\n",
       "  <tbody>\n",
       "    <tr>\n",
       "      <th>0</th>\n",
       "      <td>0</td>\n",
       "      <td>2021-08-31 23:59:57+00:00</td>\n",
       "      <td>1432855712657412096</td>\n",
       "      <td>@sereingives @nft_sol @nfts_cardano Done</td>\n",
       "      <td>yedamdashing1</td>\n",
       "      <td>done</td>\n",
       "    </tr>\n",
       "    <tr>\n",
       "      <th>1</th>\n",
       "      <td>1</td>\n",
       "      <td>2021-08-31 23:59:49+00:00</td>\n",
       "      <td>1432855676729106436</td>\n",
       "      <td>@jeremeybivens This is a way to store your keys for any type of storage. Yea, you can stake from hot and cold storage on Cardano!</td>\n",
       "      <td>TheADAApe</td>\n",
       "      <td>this is a way to store your keys for any type of storage. yea, you can stake from hot and cold storage on cardano!</td>\n",
       "    </tr>\n",
       "    <tr>\n",
       "      <th>2</th>\n",
       "      <td>2</td>\n",
       "      <td>2021-08-31 23:59:47+00:00</td>\n",
       "      <td>1432855671343656963</td>\n",
       "      <td>What’s great about NFT’s on Cardano? They’re fun! #cryptodino @cryptodino_io #NFTCommunity #NFT #ADA #ADAgang #cardano #CardanoNFT https://t.co/Yd...</td>\n",
       "      <td>LarryMiles</td>\n",
       "      <td>what’s great about nft’s on cardano? they’re fun!</td>\n",
       "    </tr>\n",
       "    <tr>\n",
       "      <th>3</th>\n",
       "      <td>3</td>\n",
       "      <td>2021-08-31 23:59:35+00:00</td>\n",
       "      <td>1432855621192364032</td>\n",
       "      <td>Hoskinson: These are the circumstances in which Cardano $ADA and Solana $SOL will collaborate</td>\n",
       "      <td>CyrilXbt</td>\n",
       "      <td>hoskinson: these are the circumstances in which cardano $ada and solana $sol will collaborate</td>\n",
       "    </tr>\n",
       "    <tr>\n",
       "      <th>4</th>\n",
       "      <td>4</td>\n",
       "      <td>2021-08-31 23:58:53+00:00</td>\n",
       "      <td>1432855443617902595</td>\n",
       "      <td>@Cardano_Robin @psychADAlias @Champagnemami02 @tr3090 @w909924</td>\n",
       "      <td>j20702050</td>\n",
       "      <td></td>\n",
       "    </tr>\n",
       "    <tr>\n",
       "      <th>5</th>\n",
       "      <td>5</td>\n",
       "      <td>2021-08-31 23:58:35+00:00</td>\n",
       "      <td>1432855366841344006</td>\n",
       "      <td>Hoskinson: These are the circumstances in which Cardano (ADA) and Solana (SOL) will collaborate #Cryptocurrency</td>\n",
       "      <td>SuddenlySatoshi</td>\n",
       "      <td>hoskinson: these are the circumstances in which cardano (ada) and solana (sol) will collaborate</td>\n",
       "    </tr>\n",
       "    <tr>\n",
       "      <th>6</th>\n",
       "      <td>6</td>\n",
       "      <td>2021-08-31 23:58:23+00:00</td>\n",
       "      <td>1432855318820790274</td>\n",
       "      <td>@falko15543940 @golden_doghouse @ValueCryptos @ercwl Note over 100 ETH projects have already stated they will migrate to Cardano. When the UX is t...</td>\n",
       "      <td>WiseVesting101</td>\n",
       "      <td>note over 100 eth projects have already stated they will migrate to cardano. when the ux is tried and proven, the masses will follow. people a...</td>\n",
       "    </tr>\n",
       "    <tr>\n",
       "      <th>7</th>\n",
       "      <td>7</td>\n",
       "      <td>2021-08-31 23:57:50+00:00</td>\n",
       "      <td>1432855179875991555</td>\n",
       "      <td>Rob $tone, two damn phones\\nBabylons can't crack the code (no)👉👈😁\\n#Bitcoin #Solana #XRP #Cardano #Algorand</td>\n",
       "      <td>execut333</td>\n",
       "      <td>rob $tone, two damn phones\\nbabylons can't crack the code (no)👉👈😁\\n</td>\n",
       "    </tr>\n",
       "    <tr>\n",
       "      <th>8</th>\n",
       "      <td>8</td>\n",
       "      <td>2021-08-31 23:57:21+00:00</td>\n",
       "      <td>1432855056982945800</td>\n",
       "      <td>It’s a shame that @SmaugPool isn’t fully saturated.  Ticker: SMAUG.\\n\\nResponsible for https://t.co/BWLvKB6Z7p, a tool that almost everyone in the...</td>\n",
       "      <td>TimothyAyers0</td>\n",
       "      <td>it’s a shame that  isn’t fully saturated.  ticker: smaug.\\n\\nresponsible for \\n\\n</td>\n",
       "    </tr>\n",
       "    <tr>\n",
       "      <th>9</th>\n",
       "      <td>9</td>\n",
       "      <td>2021-08-31 23:57:10+00:00</td>\n",
       "      <td>1432855010229039104</td>\n",
       "      <td>Bitcoin Ethereum Cardano polkadot Matic Bullish or Bearish?? What do the... https://t.co/HhpVrlBW73 via @YouTube</td>\n",
       "      <td>MoonDogTrading1</td>\n",
       "      <td>bitcoin ethereum cardano polkadot matic bullish or bearish?? what do the...</td>\n",
       "    </tr>\n",
       "  </tbody>\n",
       "</table>\n",
       "</div>"
      ],
      "text/plain": [
       "   Unnamed: 0                   Datetime             Tweet ID  \\\n",
       "0           0  2021-08-31 23:59:57+00:00  1432855712657412096   \n",
       "1           1  2021-08-31 23:59:49+00:00  1432855676729106436   \n",
       "2           2  2021-08-31 23:59:47+00:00  1432855671343656963   \n",
       "3           3  2021-08-31 23:59:35+00:00  1432855621192364032   \n",
       "4           4  2021-08-31 23:58:53+00:00  1432855443617902595   \n",
       "5           5  2021-08-31 23:58:35+00:00  1432855366841344006   \n",
       "6           6  2021-08-31 23:58:23+00:00  1432855318820790274   \n",
       "7           7  2021-08-31 23:57:50+00:00  1432855179875991555   \n",
       "8           8  2021-08-31 23:57:21+00:00  1432855056982945800   \n",
       "9           9  2021-08-31 23:57:10+00:00  1432855010229039104   \n",
       "\n",
       "                                                                                                                                                    Text  \\\n",
       "0                                                                                                               @sereingives @nft_sol @nfts_cardano Done   \n",
       "1                      @jeremeybivens This is a way to store your keys for any type of storage. Yea, you can stake from hot and cold storage on Cardano!   \n",
       "2  What’s great about NFT’s on Cardano? They’re fun! #cryptodino @cryptodino_io #NFTCommunity #NFT #ADA #ADAgang #cardano #CardanoNFT https://t.co/Yd...   \n",
       "3                                                          Hoskinson: These are the circumstances in which Cardano $ADA and Solana $SOL will collaborate   \n",
       "4                                                                                         @Cardano_Robin @psychADAlias @Champagnemami02 @tr3090 @w909924   \n",
       "5                                        Hoskinson: These are the circumstances in which Cardano (ADA) and Solana (SOL) will collaborate #Cryptocurrency   \n",
       "6  @falko15543940 @golden_doghouse @ValueCryptos @ercwl Note over 100 ETH projects have already stated they will migrate to Cardano. When the UX is t...   \n",
       "7                                            Rob $tone, two damn phones\\nBabylons can't crack the code (no)👉👈😁\\n#Bitcoin #Solana #XRP #Cardano #Algorand   \n",
       "8  It’s a shame that @SmaugPool isn’t fully saturated.  Ticker: SMAUG.\\n\\nResponsible for https://t.co/BWLvKB6Z7p, a tool that almost everyone in the...   \n",
       "9                                       Bitcoin Ethereum Cardano polkadot Matic Bullish or Bearish?? What do the... https://t.co/HhpVrlBW73 via @YouTube   \n",
       "\n",
       "              User  \\\n",
       "0    yedamdashing1   \n",
       "1        TheADAApe   \n",
       "2       LarryMiles   \n",
       "3         CyrilXbt   \n",
       "4        j20702050   \n",
       "5  SuddenlySatoshi   \n",
       "6   WiseVesting101   \n",
       "7        execut333   \n",
       "8    TimothyAyers0   \n",
       "9  MoonDogTrading1   \n",
       "\n",
       "                                                                                                                                                 ModText  \n",
       "0                                                                                                                                                   done  \n",
       "1                                     this is a way to store your keys for any type of storage. yea, you can stake from hot and cold storage on cardano!  \n",
       "2                                                                                             what’s great about nft’s on cardano? they’re fun!           \n",
       "3                                                          hoskinson: these are the circumstances in which cardano $ada and solana $sol will collaborate  \n",
       "4                                                                                                                                                         \n",
       "5                                                       hoskinson: these are the circumstances in which cardano (ada) and solana (sol) will collaborate   \n",
       "6      note over 100 eth projects have already stated they will migrate to cardano. when the ux is tried and proven, the masses will follow. people a...  \n",
       "7                                                                                rob $tone, two damn phones\\nbabylons can't crack the code (no)👉👈😁\\n      \n",
       "8                                                                     it’s a shame that  isn’t fully saturated.  ticker: smaug.\\n\\nresponsible for \\n\\n   \n",
       "9                                                                           bitcoin ethereum cardano polkadot matic bullish or bearish?? what do the...   "
      ]
     },
     "execution_count": 150,
     "metadata": {},
     "output_type": "execute_result"
    }
   ],
   "source": [
    "df.head(10)"
   ]
  },
  {
   "cell_type": "code",
   "execution_count": 151,
   "id": "0071f34c",
   "metadata": {},
   "outputs": [
    {
     "data": {
      "text/html": [
       "<div>\n",
       "<style scoped>\n",
       "    .dataframe tbody tr th:only-of-type {\n",
       "        vertical-align: middle;\n",
       "    }\n",
       "\n",
       "    .dataframe tbody tr th {\n",
       "        vertical-align: top;\n",
       "    }\n",
       "\n",
       "    .dataframe thead th {\n",
       "        text-align: right;\n",
       "    }\n",
       "</style>\n",
       "<table border=\"1\" class=\"dataframe\">\n",
       "  <thead>\n",
       "    <tr style=\"text-align: right;\">\n",
       "      <th></th>\n",
       "      <th>Unnamed: 0</th>\n",
       "      <th>Datetime</th>\n",
       "      <th>Tweet ID</th>\n",
       "      <th>Text</th>\n",
       "      <th>User</th>\n",
       "      <th>ModText</th>\n",
       "    </tr>\n",
       "  </thead>\n",
       "  <tbody>\n",
       "    <tr>\n",
       "      <th>199996</th>\n",
       "      <td>199996</td>\n",
       "      <td>2021-08-08 22:29:41+00:00</td>\n",
       "      <td>1424498074865504257</td>\n",
       "      <td>@Fougias_ @elliotrades @cryptoknitties @AdaDolls @CardinosNFT @CardanoKidz @spacebudzNFT @CardanoBits @the_hoskinsons @CardanoMonsters @KingsCarda...</td>\n",
       "      <td>ConservationAR</td>\n",
       "      <td>nice one. i will look into these! what is the marketplace for cardano?</td>\n",
       "    </tr>\n",
       "    <tr>\n",
       "      <th>199997</th>\n",
       "      <td>199997</td>\n",
       "      <td>2021-08-08 22:29:40+00:00</td>\n",
       "      <td>1424498068418826243</td>\n",
       "      <td>How Cardano can help in Ethiopia, El Salvador and other developing countries https://t.co/rjAgSRQfB0</td>\n",
       "      <td>CryptoBerts</td>\n",
       "      <td>how cardano can help in ethiopia, el salvador and other developing countries</td>\n",
       "    </tr>\n",
       "    <tr>\n",
       "      <th>199998</th>\n",
       "      <td>199998</td>\n",
       "      <td>2021-08-08 22:29:39+00:00</td>\n",
       "      <td>1424498066137264136</td>\n",
       "      <td>@eVIRALToken has been changing the game since inception and will continue to do so. Say goodbye to #rugpulls #cryptomarket, any project launched o...</td>\n",
       "      <td>kloflin86</td>\n",
       "      <td>has been changing the game since inception and will continue to do so. say goodbye to  , any project launched on the  platform is a safe project....</td>\n",
       "    </tr>\n",
       "    <tr>\n",
       "      <th>199999</th>\n",
       "      <td>199999</td>\n",
       "      <td>2021-08-08 22:29:27+00:00</td>\n",
       "      <td>1424498014660481026</td>\n",
       "      <td>$ADA 24 Hours Stats #Cardano\\n\\n24h High: $1.49131\\n24h Average: $1.45527\\n24h Low: $1.40946</td>\n",
       "      <td>Altcoin_Track</td>\n",
       "      <td>$ada 24 hours stats \\n\\n24h high: $1.49131\\n24h average: $1.45527\\n24h low: $1.40946</td>\n",
       "    </tr>\n",
       "    <tr>\n",
       "      <th>200000</th>\n",
       "      <td>200000</td>\n",
       "      <td>2021-08-08 22:28:13+00:00</td>\n",
       "      <td>1424497705410342918</td>\n",
       "      <td>@project_takumi @cardano_bull @JonMunitz I’m talking about how they keep calling themselves progressives and now they refer it to the people who p...</td>\n",
       "      <td>ForYang4</td>\n",
       "      <td>i’m talking about how they keep calling themselves progressives and now they refer it to the people who praise the squad</td>\n",
       "    </tr>\n",
       "  </tbody>\n",
       "</table>\n",
       "</div>"
      ],
      "text/plain": [
       "        Unnamed: 0                   Datetime             Tweet ID  \\\n",
       "199996      199996  2021-08-08 22:29:41+00:00  1424498074865504257   \n",
       "199997      199997  2021-08-08 22:29:40+00:00  1424498068418826243   \n",
       "199998      199998  2021-08-08 22:29:39+00:00  1424498066137264136   \n",
       "199999      199999  2021-08-08 22:29:27+00:00  1424498014660481026   \n",
       "200000      200000  2021-08-08 22:28:13+00:00  1424497705410342918   \n",
       "\n",
       "                                                                                                                                                         Text  \\\n",
       "199996  @Fougias_ @elliotrades @cryptoknitties @AdaDolls @CardinosNFT @CardanoKidz @spacebudzNFT @CardanoBits @the_hoskinsons @CardanoMonsters @KingsCarda...   \n",
       "199997                                                   How Cardano can help in Ethiopia, El Salvador and other developing countries https://t.co/rjAgSRQfB0   \n",
       "199998  @eVIRALToken has been changing the game since inception and will continue to do so. Say goodbye to #rugpulls #cryptomarket, any project launched o...   \n",
       "199999                                                           $ADA 24 Hours Stats #Cardano\\n\\n24h High: $1.49131\\n24h Average: $1.45527\\n24h Low: $1.40946   \n",
       "200000  @project_takumi @cardano_bull @JonMunitz I’m talking about how they keep calling themselves progressives and now they refer it to the people who p...   \n",
       "\n",
       "                  User  \\\n",
       "199996  ConservationAR   \n",
       "199997     CryptoBerts   \n",
       "199998       kloflin86   \n",
       "199999   Altcoin_Track   \n",
       "200000        ForYang4   \n",
       "\n",
       "                                                                                                                                                      ModText  \n",
       "199996                                                                                 nice one. i will look into these! what is the marketplace for cardano?  \n",
       "199997                                                                          how cardano can help in ethiopia, el salvador and other developing countries   \n",
       "199998   has been changing the game since inception and will continue to do so. say goodbye to  , any project launched on the  platform is a safe project....  \n",
       "199999                                                                   $ada 24 hours stats \\n\\n24h high: $1.49131\\n24h average: $1.45527\\n24h low: $1.40946  \n",
       "200000                               i’m talking about how they keep calling themselves progressives and now they refer it to the people who praise the squad  "
      ]
     },
     "execution_count": 151,
     "metadata": {},
     "output_type": "execute_result"
    }
   ],
   "source": [
    "df.tail()"
   ]
  },
  {
   "cell_type": "code",
   "execution_count": 152,
   "id": "318dab71",
   "metadata": {},
   "outputs": [],
   "source": [
    "positive = 0\n",
    "negative = 0\n",
    "neutral= 0\n",
    "polarity = 0\n",
    "SentimentScore = []\n"
   ]
  },
  {
   "cell_type": "code",
   "execution_count": 153,
   "id": "99054d39",
   "metadata": {},
   "outputs": [
    {
     "name": "stderr",
     "output_type": "stream",
     "text": [
      "[nltk_data] Downloading package vader_lexicon to\n",
      "[nltk_data]     /Users/avinaashpadman/nltk_data...\n",
      "[nltk_data]   Package vader_lexicon is already up-to-date!\n"
     ]
    },
    {
     "data": {
      "text/plain": [
       "True"
      ]
     },
     "execution_count": 153,
     "metadata": {},
     "output_type": "execute_result"
    }
   ],
   "source": [
    "nltk.download('vader_lexicon')"
   ]
  },
  {
   "cell_type": "code",
   "execution_count": null,
   "id": "73fee86e",
   "metadata": {},
   "outputs": [],
   "source": [
    "for idx, tweet in df.iterrows():\n",
    "    #print(tweet.Text)\n",
    "    analysis = TextBlob(tweet.ModText)\n",
    "    score = SentimentIntensityAnalyzer().polarity_scores(tweet.ModText)\n",
    "    neg = score['neg']\n",
    "    pos = score['pos']\n",
    "    neu = score['neg']\n",
    "    comp = score['compound']\n",
    "    polarity += analysis.sentiment.polarity\n",
    "    \n",
    "    if neg > pos:\n",
    "        SentimentScore.append(-1)\n",
    "    \n",
    "    if pos > neg:\n",
    "        SentimentScore.append(1)\n",
    "    \n",
    "    if pos == neg:\n",
    "        SentimentScore.append(0)\n",
    "        \n",
    "        "
   ]
  },
  {
   "cell_type": "code",
   "execution_count": null,
   "id": "652fcb31",
   "metadata": {},
   "outputs": [],
   "source": [
    "df.head()"
   ]
  },
  {
   "cell_type": "code",
   "execution_count": null,
   "id": "93a10620",
   "metadata": {},
   "outputs": [],
   "source": [
    "df[\"sentimentScore\"] = SentimentScore"
   ]
  },
  {
   "cell_type": "code",
   "execution_count": null,
   "id": "065a2ad5",
   "metadata": {},
   "outputs": [],
   "source": [
    "df[\"sentimentScore\"].value_counts()"
   ]
  },
  {
   "cell_type": "code",
   "execution_count": null,
   "id": "3a96ff09",
   "metadata": {},
   "outputs": [],
   "source": [
    "df[\"Datetime\"] = pd.to_datetime(df[\"Datetime\"])"
   ]
  },
  {
   "cell_type": "code",
   "execution_count": null,
   "id": "a0cd3b82",
   "metadata": {},
   "outputs": [],
   "source": [
    "df.dtypes"
   ]
  },
  {
   "cell_type": "code",
   "execution_count": null,
   "id": "996b5558",
   "metadata": {},
   "outputs": [],
   "source": [
    "df.groupby([pd.Grouper(key='Datetime', freq='D'),\"sentimentScore\"]).count()"
   ]
  },
  {
   "cell_type": "code",
   "execution_count": null,
   "id": "c6d99602",
   "metadata": {},
   "outputs": [],
   "source": [
    " DailyTweetSentiment =  df.groupby(pd.Grouper(key='Datetime', freq='D'))[\"sentimentScore\"].sum()"
   ]
  },
  {
   "cell_type": "code",
   "execution_count": null,
   "id": "9c738bfd",
   "metadata": {},
   "outputs": [],
   "source": [
    " DailyTweetSentiment = pd.DataFrame(DailyTweetSentiment)"
   ]
  },
  {
   "cell_type": "code",
   "execution_count": null,
   "id": "79501854",
   "metadata": {},
   "outputs": [],
   "source": [
    "DailyTweetSentiment.head()"
   ]
  },
  {
   "cell_type": "markdown",
   "id": "51102215",
   "metadata": {},
   "source": [
    "The DailyTweetSentiment dataframe contains the cumulative sentimentScore for each day since the 8th of August to the 31st of August"
   ]
  },
  {
   "cell_type": "code",
   "execution_count": null,
   "id": "5384acac",
   "metadata": {},
   "outputs": [],
   "source": [
    "import plotly.express as px"
   ]
  },
  {
   "cell_type": "code",
   "execution_count": null,
   "id": "5fbaa6e3",
   "metadata": {},
   "outputs": [],
   "source": [
    "px.bar(DailyTweetSentiment)"
   ]
  },
  {
   "cell_type": "code",
   "execution_count": null,
   "id": "dec2f6ad",
   "metadata": {},
   "outputs": [],
   "source": [
    "DailyTweetSentimentByScore = df.groupby([pd.Grouper(key='Datetime', freq='D'),\"sentimentScore\"])[\"User\"].count()"
   ]
  },
  {
   "cell_type": "code",
   "execution_count": null,
   "id": "161118cf",
   "metadata": {},
   "outputs": [],
   "source": [
    "DailyTweetSentimentByScore.head()"
   ]
  },
  {
   "cell_type": "code",
   "execution_count": null,
   "id": "edd44ac4",
   "metadata": {},
   "outputs": [],
   "source": [
    "DailyTweetSentimentByScore = DailyTweetSentimentByScore.reset_index(level = [\"sentimentScore\"])"
   ]
  },
  {
   "cell_type": "code",
   "execution_count": null,
   "id": "3c099b78",
   "metadata": {},
   "outputs": [],
   "source": [
    "px.bar(DailyTweetSentimentByScore, color = \"sentimentScore\")"
   ]
  },
  {
   "cell_type": "code",
   "execution_count": null,
   "id": "91dd413b",
   "metadata": {},
   "outputs": [],
   "source": [
    "PosSentDailyTweets = DailyTweetSentimentByScore[DailyTweetSentimentByScore[\"sentimentScore\"] == 1]\n",
    "PosSentDailyTweets = PosSentDailyTweets.drop(\"sentimentScore\", axis = 1)"
   ]
  },
  {
   "cell_type": "code",
   "execution_count": null,
   "id": "31dbc904",
   "metadata": {},
   "outputs": [],
   "source": [
    "px.bar(PosSentDailyTweets)"
   ]
  },
  {
   "cell_type": "code",
   "execution_count": null,
   "id": "4419d237",
   "metadata": {},
   "outputs": [],
   "source": [
    "PosSentDailyTweets.head()"
   ]
  },
  {
   "cell_type": "code",
   "execution_count": null,
   "id": "df09d9fe",
   "metadata": {},
   "outputs": [],
   "source": [
    "ADAPrices = pd.read_csv(\"../data/raw/ADAPrices.csv\", names = ['unix', 'date', 'symbol', 'open','high','low','close','volumeADA','volumeUSDT','tradecount'] )"
   ]
  },
  {
   "cell_type": "code",
   "execution_count": null,
   "id": "73e36c3c",
   "metadata": {},
   "outputs": [],
   "source": [
    "ADAPrices.head()"
   ]
  },
  {
   "cell_type": "markdown",
   "id": "3c96d4a0",
   "metadata": {},
   "source": [
    "I downloaded a csv file of ADA prices from the last three months. After converting it to a Pandas dataframe I had clean up the dataframe by assigning column names to the dataframe that were in the first row and then removing the first two rows. I then converted the date column into a datetime variable type and set it as the index in order to make it easier for me to manipulate and choose the dates that matched the dates I had twitter sentiment for. Finally I reversed the order of the dataframe rows so it matched the order for the twitter sentiment dataframe"
   ]
  },
  {
   "cell_type": "code",
   "execution_count": null,
   "id": "fa45dab9",
   "metadata": {},
   "outputs": [],
   "source": [
    "ADAPrices = ADAPrices.drop([0,1])"
   ]
  },
  {
   "cell_type": "code",
   "execution_count": null,
   "id": "a54be69b",
   "metadata": {},
   "outputs": [],
   "source": [
    "ADAPrices[\"date\"] = pd.to_datetime(ADAPrices['date'])"
   ]
  },
  {
   "cell_type": "code",
   "execution_count": null,
   "id": "ddb4b49e",
   "metadata": {},
   "outputs": [],
   "source": [
    "ADAPrices = ADAPrices.set_index(['date'])"
   ]
  },
  {
   "cell_type": "code",
   "execution_count": null,
   "id": "3a708660",
   "metadata": {},
   "outputs": [],
   "source": [
    "ADAPricesDated = ADAPrices.loc['2021-08-08' : '2021-08-31']"
   ]
  },
  {
   "cell_type": "code",
   "execution_count": null,
   "id": "354198f8",
   "metadata": {},
   "outputs": [],
   "source": [
    "ADAPricesDated = ADAPricesDated.iloc[::-1]"
   ]
  },
  {
   "cell_type": "code",
   "execution_count": null,
   "id": "dad676a9",
   "metadata": {},
   "outputs": [],
   "source": [
    "fig = make_subplots(specs=[[{\"secondary_y\": True}]])\n",
    "\n",
    "fig.add_trace(\n",
    "    go.Bar( y = PosSentDailyTweets[\"User\"], name = \"Twitter ADA Sentiment\"),\n",
    "    secondary_y=False,\n",
    "    )\n",
    "\n",
    "fig.add_trace(\n",
    "    go.Scatter(y = ADAPricesDated['close'], name = \"ADA Close Price\"),\n",
    "    secondary_y=True,\n",
    "    )\n",
    "\n",
    "fig.show()"
   ]
  },
  {
   "cell_type": "markdown",
   "id": "c30b0fce",
   "metadata": {},
   "source": [
    "On face values there is an increasing trend in positive sentiment from August 8 to August 31 and the price trend of ADA shows it increasing at an almost linear rate. Its hard to tell whether the positive sentiment mirrors the price increase mainly because more data is needed to show the sentiment from earlier dates. I have a range from August 8 to August 31 mainly because it took a long time to scrape the 200,000 tweets that mention cardano. However that was a slower process because I used a python script which due to its compiled nature would be slower. In the future I am going to experiments with ways to scrape twitter data at a faster rate. However for the sake of honing my techniques in NLP and data visualization and manipulation, this project gave me a lot of insight."
   ]
  }
 ],
 "metadata": {
  "kernelspec": {
   "display_name": "Python 3 (ipykernel)",
   "language": "python",
   "name": "python3"
  },
  "language_info": {
   "codemirror_mode": {
    "name": "ipython",
    "version": 3
   },
   "file_extension": ".py",
   "mimetype": "text/x-python",
   "name": "python",
   "nbconvert_exporter": "python",
   "pygments_lexer": "ipython3",
   "version": "3.9.6"
  }
 },
 "nbformat": 4,
 "nbformat_minor": 5
}
